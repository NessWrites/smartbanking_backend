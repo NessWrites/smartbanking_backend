{
 "cells": [
  {
   "cell_type": "code",
   "execution_count": 1,
   "metadata": {},
   "outputs": [],
   "source": [
    "from selenium import webdriver\n",
    "from selenium.webdriver.chrome.service import Service\n",
    "from webdriver_manager.chrome import ChromeDriverManager\n",
    "import time\n",
    "import re\n",
    "\n",
    "# Google Maps URL\n",
    "# return_address = \"Kamalpokhari\"\n",
    "# base_url = \"https://www.google.com/maps\"\n",
    "# search_url = f\"{base_url}/place/{return_address}\"\n",
    "\n",
    "# Class Definition\n",
    "class get_coordinates():\n",
    "    def __init__(self, location):\n",
    "        self.parameter = location\n",
    "        self.return_add = location\n",
    "        base_url = \"https://www.google.com/maps\"\n",
    "        self.search_url = f\"{base_url}/place/{self.return_add}\"\n",
    "        print(self.return_add)\n",
    "        \n",
    "    \n",
    "    \n",
    "    def get_url_and_coordinates(self):\n",
    "        # Initialize WebDriver with Service\n",
    "        service = Service(ChromeDriverManager().install())\n",
    "        driver = webdriver.Chrome(service=service)\n",
    "        driver.get(self.search_url)\n",
    "        \n",
    "        # Minimize the browser window\n",
    "        driver.minimize_window()\n",
    "        \n",
    "        time.sleep(10)  # Wait for the page to load\n",
    "        \n",
    "        try:\n",
    "            # Get the current URL\n",
    "            current_url = driver.current_url\n",
    "            \n",
    "            \n",
    "            # Extract the two numbers after \"/@\"\n",
    "            pattern = rf\"/@([\\d.]+),([\\d.]+)\"\n",
    "            match = re.search(pattern, current_url)\n",
    "\n",
    "            if match:\n",
    "                latitude = float(match.group(1))\n",
    "                longitude = float(match.group(2))\n",
    "                return longitude, latitude\n",
    "                print(f\"Extracted coordinates: Latitude = {latitude}, Longitude = {longitude}\")\n",
    "            else:\n",
    "                print(\"Pattern not found in the URL.\")\n",
    "        \n",
    "        except Exception as e:\n",
    "            print(f\"Error: {e}\")\n",
    "        \n",
    "        finally:\n",
    "            # Close the driver\n",
    "            driver.quit()\n",
    "\n",
    "\n"
   ]
  },
  {
   "cell_type": "code",
   "execution_count": 2,
   "metadata": {},
   "outputs": [],
   "source": [
    "class distance():\n",
    "    def __init__(self, previous_location,home_location, current_location):\n",
    "        self.previous_location = previous_location\n",
    "        self.home_location = home_location\n",
    "        self.current_location = current_location\n",
    "        \n",
    "\n",
    "    \n",
    "    def get_home_location(self):\n",
    "        \n",
    "        return get_coordinates(self.home_location).get_url_and_coordinates()\n",
    "    \n",
    "    def get_current_location(self):\n",
    "\n",
    "        return get_coordinates(self.current_location).get_url_and_coordinates()\n",
    "    \n",
    "    def get_previous_location(self):\n",
    "        if not self.previous_location :\n",
    "            self.get_home_location(self)\n",
    "        else:\n",
    "            get_coordinates(self.previous_location).get_url_and_coordinates()\n",
    "            \n",
    "            "
   ]
  },
  {
   "cell_type": "code",
   "execution_count": 3,
   "metadata": {},
   "outputs": [
    {
     "name": "stdout",
     "output_type": "stream",
     "text": [
      "Tokha\n",
      "Samakhusi\n"
     ]
    },
    {
     "ename": "NoSuchWindowException",
     "evalue": "Message: no such window: target window already closed\nfrom unknown error: web view not found\n  (Session info: chrome=131.0.6778.205)\nStacktrace:\n0   chromedriver                        0x000000010293f184 cxxbridge1$str$ptr + 3626716\n1   chromedriver                        0x00000001029379d4 cxxbridge1$str$ptr + 3596076\n2   chromedriver                        0x00000001023a4968 cxxbridge1$string$len + 89228\n3   chromedriver                        0x000000010237fe44 core::str::slice_error_fail::ha0e52dbcb60e6bae + 3780\n4   chromedriver                        0x000000010240ed48 cxxbridge1$string$len + 524396\n5   chromedriver                        0x0000000102421c24 cxxbridge1$string$len + 601928\n6   chromedriver                        0x00000001023dd568 cxxbridge1$string$len + 321676\n7   chromedriver                        0x00000001023de1b8 cxxbridge1$string$len + 324828\n8   chromedriver                        0x000000010290a9ac cxxbridge1$str$ptr + 3411716\n9   chromedriver                        0x000000010290dccc cxxbridge1$str$ptr + 3424804\n10  chromedriver                        0x00000001028f186c cxxbridge1$str$ptr + 3308996\n11  chromedriver                        0x000000010290e58c cxxbridge1$str$ptr + 3427044\n12  chromedriver                        0x00000001028e309c cxxbridge1$str$ptr + 3249652\n13  chromedriver                        0x00000001029284b8 cxxbridge1$str$ptr + 3533328\n14  chromedriver                        0x0000000102928634 cxxbridge1$str$ptr + 3533708\n15  chromedriver                        0x0000000102937648 cxxbridge1$str$ptr + 3595168\n16  libsystem_pthread.dylib             0x00000001894c72e4 _pthread_start + 136\n17  libsystem_pthread.dylib             0x00000001894c20fc thread_start + 8\n",
     "output_type": "error",
     "traceback": [
      "\u001b[0;31m---------------------------------------------------------------------------\u001b[0m",
      "\u001b[0;31mNoSuchWindowException\u001b[0m                     Traceback (most recent call last)",
      "Cell \u001b[0;32mIn[3], line 4\u001b[0m\n\u001b[1;32m      1\u001b[0m demo \u001b[38;5;241m=\u001b[39m distance(\u001b[38;5;124m'\u001b[39m\u001b[38;5;124m'\u001b[39m, \u001b[38;5;124m'\u001b[39m\u001b[38;5;124mTokha\u001b[39m\u001b[38;5;124m'\u001b[39m, \u001b[38;5;124m'\u001b[39m\u001b[38;5;124mSamakhusi\u001b[39m\u001b[38;5;124m'\u001b[39m)\n\u001b[1;32m      3\u001b[0m home_long, home_lat \u001b[38;5;241m=\u001b[39m demo\u001b[38;5;241m.\u001b[39mget_home_location()\n\u001b[0;32m----> 4\u001b[0m current_long, current_lat \u001b[38;5;241m=\u001b[39m demo\u001b[38;5;241m.\u001b[39mget_current_location()\n",
      "Cell \u001b[0;32mIn[2], line 15\u001b[0m, in \u001b[0;36mdistance.get_current_location\u001b[0;34m(self)\u001b[0m\n\u001b[1;32m     13\u001b[0m \u001b[38;5;28;01mdef\u001b[39;00m \u001b[38;5;21mget_current_location\u001b[39m(\u001b[38;5;28mself\u001b[39m):\n\u001b[0;32m---> 15\u001b[0m     \u001b[38;5;28;01mreturn\u001b[39;00m get_coordinates(\u001b[38;5;28mself\u001b[39m\u001b[38;5;241m.\u001b[39mcurrent_location)\u001b[38;5;241m.\u001b[39mget_url_and_coordinates()\n",
      "Cell \u001b[0;32mIn[1], line 30\u001b[0m, in \u001b[0;36mget_coordinates.get_url_and_coordinates\u001b[0;34m(self)\u001b[0m\n\u001b[1;32m     27\u001b[0m driver\u001b[38;5;241m.\u001b[39mget(\u001b[38;5;28mself\u001b[39m\u001b[38;5;241m.\u001b[39msearch_url)\n\u001b[1;32m     29\u001b[0m \u001b[38;5;66;03m# Minimize the browser window\u001b[39;00m\n\u001b[0;32m---> 30\u001b[0m driver\u001b[38;5;241m.\u001b[39mminimize_window()\n\u001b[1;32m     32\u001b[0m time\u001b[38;5;241m.\u001b[39msleep(\u001b[38;5;241m10\u001b[39m)  \u001b[38;5;66;03m# Wait for the page to load\u001b[39;00m\n\u001b[1;32m     34\u001b[0m \u001b[38;5;28;01mtry\u001b[39;00m:\n\u001b[1;32m     35\u001b[0m     \u001b[38;5;66;03m# Get the current URL\u001b[39;00m\n",
      "File \u001b[0;32m/opt/anaconda3/lib/python3.11/site-packages/selenium/webdriver/remote/webdriver.py:544\u001b[0m, in \u001b[0;36mWebDriver.minimize_window\u001b[0;34m(self)\u001b[0m\n\u001b[1;32m    542\u001b[0m \u001b[38;5;28;01mdef\u001b[39;00m \u001b[38;5;21mminimize_window\u001b[39m(\u001b[38;5;28mself\u001b[39m) \u001b[38;5;241m-\u001b[39m\u001b[38;5;241m>\u001b[39m \u001b[38;5;28;01mNone\u001b[39;00m:\n\u001b[1;32m    543\u001b[0m \u001b[38;5;250m    \u001b[39m\u001b[38;5;124;03m\"\"\"Invokes the window manager-specific 'minimize' operation.\"\"\"\u001b[39;00m\n\u001b[0;32m--> 544\u001b[0m     \u001b[38;5;28mself\u001b[39m\u001b[38;5;241m.\u001b[39mexecute(Command\u001b[38;5;241m.\u001b[39mMINIMIZE_WINDOW)\n",
      "File \u001b[0;32m/opt/anaconda3/lib/python3.11/site-packages/selenium/webdriver/remote/webdriver.py:384\u001b[0m, in \u001b[0;36mWebDriver.execute\u001b[0;34m(self, driver_command, params)\u001b[0m\n\u001b[1;32m    382\u001b[0m response \u001b[38;5;241m=\u001b[39m \u001b[38;5;28mself\u001b[39m\u001b[38;5;241m.\u001b[39mcommand_executor\u001b[38;5;241m.\u001b[39mexecute(driver_command, params)\n\u001b[1;32m    383\u001b[0m \u001b[38;5;28;01mif\u001b[39;00m response:\n\u001b[0;32m--> 384\u001b[0m     \u001b[38;5;28mself\u001b[39m\u001b[38;5;241m.\u001b[39merror_handler\u001b[38;5;241m.\u001b[39mcheck_response(response)\n\u001b[1;32m    385\u001b[0m     response[\u001b[38;5;124m\"\u001b[39m\u001b[38;5;124mvalue\u001b[39m\u001b[38;5;124m\"\u001b[39m] \u001b[38;5;241m=\u001b[39m \u001b[38;5;28mself\u001b[39m\u001b[38;5;241m.\u001b[39m_unwrap_value(response\u001b[38;5;241m.\u001b[39mget(\u001b[38;5;124m\"\u001b[39m\u001b[38;5;124mvalue\u001b[39m\u001b[38;5;124m\"\u001b[39m, \u001b[38;5;28;01mNone\u001b[39;00m))\n\u001b[1;32m    386\u001b[0m     \u001b[38;5;28;01mreturn\u001b[39;00m response\n",
      "File \u001b[0;32m/opt/anaconda3/lib/python3.11/site-packages/selenium/webdriver/remote/errorhandler.py:232\u001b[0m, in \u001b[0;36mErrorHandler.check_response\u001b[0;34m(self, response)\u001b[0m\n\u001b[1;32m    230\u001b[0m         alert_text \u001b[38;5;241m=\u001b[39m value[\u001b[38;5;124m\"\u001b[39m\u001b[38;5;124malert\u001b[39m\u001b[38;5;124m\"\u001b[39m]\u001b[38;5;241m.\u001b[39mget(\u001b[38;5;124m\"\u001b[39m\u001b[38;5;124mtext\u001b[39m\u001b[38;5;124m\"\u001b[39m)\n\u001b[1;32m    231\u001b[0m     \u001b[38;5;28;01mraise\u001b[39;00m exception_class(message, screen, stacktrace, alert_text)  \u001b[38;5;66;03m# type: ignore[call-arg]  # mypy is not smart enough here\u001b[39;00m\n\u001b[0;32m--> 232\u001b[0m \u001b[38;5;28;01mraise\u001b[39;00m exception_class(message, screen, stacktrace)\n",
      "\u001b[0;31mNoSuchWindowException\u001b[0m: Message: no such window: target window already closed\nfrom unknown error: web view not found\n  (Session info: chrome=131.0.6778.205)\nStacktrace:\n0   chromedriver                        0x000000010293f184 cxxbridge1$str$ptr + 3626716\n1   chromedriver                        0x00000001029379d4 cxxbridge1$str$ptr + 3596076\n2   chromedriver                        0x00000001023a4968 cxxbridge1$string$len + 89228\n3   chromedriver                        0x000000010237fe44 core::str::slice_error_fail::ha0e52dbcb60e6bae + 3780\n4   chromedriver                        0x000000010240ed48 cxxbridge1$string$len + 524396\n5   chromedriver                        0x0000000102421c24 cxxbridge1$string$len + 601928\n6   chromedriver                        0x00000001023dd568 cxxbridge1$string$len + 321676\n7   chromedriver                        0x00000001023de1b8 cxxbridge1$string$len + 324828\n8   chromedriver                        0x000000010290a9ac cxxbridge1$str$ptr + 3411716\n9   chromedriver                        0x000000010290dccc cxxbridge1$str$ptr + 3424804\n10  chromedriver                        0x00000001028f186c cxxbridge1$str$ptr + 3308996\n11  chromedriver                        0x000000010290e58c cxxbridge1$str$ptr + 3427044\n12  chromedriver                        0x00000001028e309c cxxbridge1$str$ptr + 3249652\n13  chromedriver                        0x00000001029284b8 cxxbridge1$str$ptr + 3533328\n14  chromedriver                        0x0000000102928634 cxxbridge1$str$ptr + 3533708\n15  chromedriver                        0x0000000102937648 cxxbridge1$str$ptr + 3595168\n16  libsystem_pthread.dylib             0x00000001894c72e4 _pthread_start + 136\n17  libsystem_pthread.dylib             0x00000001894c20fc thread_start + 8\n"
     ]
    }
   ],
   "source": [
    "demo = distance('', 'Tokha', 'Samakhusi')\n",
    "\n",
    "home_long, home_lat = demo.get_home_location()\n",
    "current_long, current_lat = demo.get_current_location()"
   ]
  },
  {
   "cell_type": "code",
   "execution_count": 4,
   "metadata": {},
   "outputs": [],
   "source": [
    "import mpu"
   ]
  },
  {
   "cell_type": "code",
   "execution_count": 5,
   "metadata": {},
   "outputs": [
    {
     "name": "stdout",
     "output_type": "stream",
     "text": [
      "3.29 miles\n",
      "5.29 km\n"
     ]
    }
   ],
   "source": [
    "dist = round(mpu.haversine_distance((home_lat, home_long), (current_lat, current_long)),2)\n",
    "# Convert to miles)\n",
    "dist_miles = round((dist * 0.621371),2)\n",
    "print(dist_miles, \"miles\")\n",
    "print(dist, \"km\") "
   ]
  },
  {
   "cell_type": "code",
   "execution_count": null,
   "metadata": {},
   "outputs": [],
   "source": []
  }
 ],
 "metadata": {
  "kernelspec": {
   "display_name": "base",
   "language": "python",
   "name": "python3"
  },
  "language_info": {
   "codemirror_mode": {
    "name": "ipython",
    "version": 3
   },
   "file_extension": ".py",
   "mimetype": "text/x-python",
   "name": "python",
   "nbconvert_exporter": "python",
   "pygments_lexer": "ipython3",
   "version": "3.11.7"
  }
 },
 "nbformat": 4,
 "nbformat_minor": 2
}
