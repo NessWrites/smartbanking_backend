{
 "cells": [
  {
   "cell_type": "code",
   "execution_count": 1,
   "metadata": {},
   "outputs": [
    {
     "name": "stdout",
     "output_type": "stream",
     "text": [
      "Date: 2025-03-24\n",
      "INR: Buy = 160.00, Sell = 160.15\n",
      "USD: Buy = 137.26, Sell = 137.86\n",
      "EUR: Buy = 148.45, Sell = 149.10\n",
      "GBP: Buy = 177.33, Sell = 178.11\n",
      "CHF: Buy = 155.39, Sell = 156.07\n",
      "AUD: Buy = 86.08, Sell = 86.45\n",
      "CAD: Buy = 95.65, Sell = 96.07\n",
      "SGD: Buy = 102.73, Sell = 103.18\n",
      "JPY: Buy = 9.19, Sell = 9.23\n",
      "CNY: Buy = 18.93, Sell = 19.02\n",
      "SAR: Buy = 36.59, Sell = 36.75\n",
      "QAR: Buy = 37.65, Sell = 37.82\n",
      "THB: Buy = 4.07, Sell = 4.08\n",
      "AED: Buy = 37.37, Sell = 37.53\n",
      "MYR: Buy = 31.05, Sell = 31.18\n",
      "KRW: Buy = 9.38, Sell = 9.42\n",
      "SEK: Buy = 13.53, Sell = 13.59\n",
      "DKK: Buy = 19.90, Sell = 19.99\n",
      "HKD: Buy = 17.66, Sell = 17.73\n",
      "KWD: Buy = 445.29, Sell = 447.23\n",
      "BHD: Buy = 364.12, Sell = 365.71\n",
      "OMR: Buy = 356.59, Sell = 358.15\n"
     ]
    }
   ],
   "source": [
    "import requests\n",
    "\n",
    "url = 'https://www.nrb.org.np/api/forex/v1/rates'\n",
    "params = {\n",
    "    'from': '2025-03-24',\n",
    "    'to': '2025-03-24',\n",
    "    'per_page': 10,\n",
    "    'page': 1\n",
    "}\n",
    "\n",
    "response = requests.get(url, params=params)\n",
    "data = response.json()\n",
    "\n",
    "if data['status']['code'] == 200:\n",
    "    for rate_info in data['data']['payload']:\n",
    "        print(f\"Date: {rate_info['date']}\")\n",
    "        for rate in rate_info['rates']:\n",
    "            currency = rate['currency']['iso3']\n",
    "            buy_rate = rate['buy']\n",
    "            sell_rate = rate['sell']\n",
    "            print(f\"{currency}: Buy = {buy_rate}, Sell = {sell_rate}\")\n",
    "else:\n",
    "    print(\"Error fetching data:\", data['errors'])\n"
   ]
  },
  {
   "cell_type": "code",
   "execution_count": 5,
   "metadata": {},
   "outputs": [
    {
     "name": "stdout",
     "output_type": "stream",
     "text": [
      "100.0 USD = 13692.00 NPR (on 2025-03-26)\n"
     ]
    },
    {
     "data": {
      "text/plain": [
       "13691.999999999998"
      ]
     },
     "execution_count": 5,
     "metadata": {},
     "output_type": "execute_result"
    }
   ],
   "source": [
    "import requests\n",
    "\n",
    "def get_exchange_rate(date, from_currency):\n",
    "    \"\"\"\n",
    "    Fetches exchange rate for the given date and currency from NRB API.\n",
    "    \"\"\"\n",
    "    url = \"https://www.nrb.org.np/api/forex/v1/rates\"\n",
    "    params = {\"from\": date, \"to\": date, \"per_page\": 50, \"page\": 1}\n",
    "\n",
    "    response = requests.get(url, params=params)\n",
    "    data = response.json()\n",
    "\n",
    "    if data[\"status\"][\"code\"] == 200:\n",
    "        for rate_info in data[\"data\"][\"payload\"]:\n",
    "            for rate in rate_info[\"rates\"]:\n",
    "                if rate[\"currency\"][\"iso3\"] == from_currency:\n",
    "                    return {\n",
    "                        \"buy\": float(rate[\"buy\"]),  # Convert to float\n",
    "                        \"sell\": float(rate[\"sell\"])  # Convert to float\n",
    "                    }\n",
    "    return None\n",
    "\n",
    "def convert_currency(amount, date, from_currency, to_currency):\n",
    "    \"\"\"\n",
    "    Converts an amount from one currency to another using NRB exchange rates.\n",
    "    \"\"\"\n",
    "    rates = get_exchange_rate(date, from_currency)\n",
    "\n",
    "    if not rates:\n",
    "        print(f\"Exchange rate for {from_currency} not found on {date}.\")\n",
    "        return None\n",
    "\n",
    "    if to_currency == \"NPR\":\n",
    "        converted_amount = amount * rates[\"buy\"]  # Use buy rate for NPR\n",
    "        print(f\"{amount} {from_currency} = {converted_amount:.2f} NPR (on {date})\")\n",
    "        return converted_amount\n",
    "    elif from_currency == \"NPR\":\n",
    "        converted_amount = amount / rates[\"sell\"]  # Use sell rate for other currency\n",
    "        print(f\"{amount} NPR = {converted_amount:.2f} {to_currency} (on {date})\")\n",
    "        return converted_amount\n",
    "    else:\n",
    "        print(f\"Direct conversion from {from_currency} to {to_currency} is not available.\")\n",
    "        return None\n",
    "\n",
    "# User input\n",
    "date = input(\"Enter exchange date (YYYY-MM-DD): \")\n",
    "from_currency = input(\"Enter 'from' currency (e.g., USD, EUR, INR, NPR): \").upper()\n",
    "to_currency = input(\"Enter 'to' currency (e.g., NPR, USD, EUR, INR): \").upper()\n",
    "amount = float(input(f\"Enter amount in {from_currency}: \"))\n",
    "\n",
    "# Perform conversion\n",
    "convert_currency(amount, date, from_currency, to_currency)\n"
   ]
  }
 ],
 "metadata": {
  "kernelspec": {
   "display_name": "base",
   "language": "python",
   "name": "python3"
  },
  "language_info": {
   "codemirror_mode": {
    "name": "ipython",
    "version": 3
   },
   "file_extension": ".py",
   "mimetype": "text/x-python",
   "name": "python",
   "nbconvert_exporter": "python",
   "pygments_lexer": "ipython3",
   "version": "3.11.7"
  }
 },
 "nbformat": 4,
 "nbformat_minor": 2
}
